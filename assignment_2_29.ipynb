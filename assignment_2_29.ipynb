{
  "nbformat": 4,
  "nbformat_minor": 0,
  "metadata": {
    "colab": {
      "provenance": []
    },
    "kernelspec": {
      "name": "python3",
      "display_name": "Python 3"
    },
    "language_info": {
      "name": "python"
    }
  },
  "cells": [
    {
      "cell_type": "code",
      "execution_count": 1,
      "metadata": {
        "colab": {
          "base_uri": "https://localhost:8080/"
        },
        "id": "QYJmnfMox-BA",
        "outputId": "33589535-e5b4-456f-e7cc-6c3927dd65a7"
      },
      "outputs": [
        {
          "name": "stdout",
          "output_type": "stream",
          "text": [
            "Muhammad\n",
            "Taha\n"
          ]
        }
      ],
      "source": [
        "first_name = input(\"\")\n",
        "last_name = input(\"\")"
      ]
    },
    {
      "cell_type": "code",
      "source": [
        "first_name = first_name.upper()\n",
        "last_name = last_name.lower()"
      ],
      "metadata": {
        "id": "KkFF9wbQyKd_"
      },
      "execution_count": 2,
      "outputs": []
    },
    {
      "cell_type": "code",
      "source": [
        "total_letters = len(first_name) + len(last_name)\n",
        "\n",
        "print(f\"First name (upper): {first_name}\")\n",
        "print(f\"Last name (lower): {last_name}\")\n",
        "print(\"Sum of letters in your first and last name:\", total_letters)"
      ],
      "metadata": {
        "colab": {
          "base_uri": "https://localhost:8080/"
        },
        "id": "EAuuOh-OyPhG",
        "outputId": "a2d90508-6f4a-4ebf-bfca-c199a429ac92"
      },
      "execution_count": 3,
      "outputs": [
        {
          "output_type": "stream",
          "name": "stdout",
          "text": [
            "First name (upper): MUHAMMAD\n",
            "Last name (lower): taha\n",
            "Sum of letters in your first and last name: 12\n"
          ]
        }
      ]
    },
    {
      "cell_type": "code",
      "source": [
        "print(\"Calculate the area of following shapes:\")\n",
        "print(\"1. Circle\")\n",
        "print(\"2. Rectangle\")\n",
        "print(\"3. Square\")\n",
        "print(\"4. Triangle\")\n",
        "shape = input(\"Find the area of : \")\n",
        "\n",
        "radius = float(input(\"Enter the radius of the circle: \"))\n",
        "area =  3.142 *  radius**2\n",
        "print(\"area of circle is\", area)\n",
        "\n",
        "print(\"Find area of Rectangle\")\n",
        "length = float(input(\"Enter length: \"))\n",
        "width = float(input(\"Enter width: \"))\n",
        "area = length * width\n",
        "print(\"Area of rectangle is\", {area})\n",
        "\n",
        "print(\"Find area of square\")\n",
        "side = float(input(\"Enter side: \"))\n",
        "area = side * side\n",
        "print(\"Area of square is\", area)\n",
        "\n",
        "print(\"Find area of triangle\")\n",
        "breadth = float(input(\"Enter breadth: \"))\n",
        "height = float(input(\"Enter height: \"))\n",
        "area = 0.5 * breadth * height\n",
        "print(\"Area of triangle is\", area)"
      ],
      "metadata": {
        "colab": {
          "base_uri": "https://localhost:8080/"
        },
        "id": "6T_Ejwmhy0T3",
        "outputId": "37d385d8-7438-46c3-a526-1b94548f682c"
      },
      "execution_count": 6,
      "outputs": [
        {
          "output_type": "stream",
          "name": "stdout",
          "text": [
            "Calculate the area of following shapes:\n",
            "1. Circle\n",
            "2. Rectangle\n",
            "3. Square\n",
            "4. Triangle\n",
            "Find the area of : Circle\n",
            "Enter the radius of the circle: 68.99\n",
            "area of circle is 14954.726354199996\n",
            "Find area of Rectangle\n",
            "Enter length: 9\n",
            "Enter width: 6\n",
            "Area of rectangle is {54.0}\n",
            "Find area of square\n",
            "Enter side: 4\n",
            "Area of square is 16.0\n",
            "Find area of triangle\n",
            "Enter breadth: 6\n",
            "Enter height: 9\n",
            "Area of triangle is 27.0\n"
          ]
        }
      ]
    },
    {
      "cell_type": "code",
      "source": [
        "import random\n",
        "\n",
        "colors = [\"red\", \"black\", \"white\", \"yellow\", \"orange\", \"purple\"]\n",
        "\n",
        "index = random.randint(0, len(colors) - 1)\n",
        "\n",
        "selected_color = colors[index]\n",
        "\n",
        "password = selected_color[::-1]\n",
        "print(\"Selected Color:\", selected_color)\n",
        "print(\"Generated Password:\", password)"
      ],
      "metadata": {
        "id": "LVqeX0OazEaG",
        "outputId": "84262597-4aa2-426c-f098-bde6886dd851",
        "colab": {
          "base_uri": "https://localhost:8080/"
        }
      },
      "execution_count": 7,
      "outputs": [
        {
          "output_type": "stream",
          "name": "stdout",
          "text": [
            "Selected Color: white\n",
            "Generated Password: etihw\n"
          ]
        }
      ]
    }
  ]
}
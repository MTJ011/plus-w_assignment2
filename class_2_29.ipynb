{
  "nbformat": 4,
  "nbformat_minor": 0,
  "metadata": {
    "colab": {
      "provenance": []
    },
    "kernelspec": {
      "name": "python3",
      "display_name": "Python 3"
    },
    "language_info": {
      "name": "python"
    }
  },
  "cells": [
    {
      "cell_type": "code",
      "source": [
        "if True:\n",
        "  print(\"This is indented correctly\")"
      ],
      "metadata": {
        "colab": {
          "base_uri": "https://localhost:8080/"
        },
        "id": "w3_4hYrszl9e",
        "outputId": "99b8b09a-0e6d-47f1-cfe7-b373c6314db9"
      },
      "execution_count": 8,
      "outputs": [
        {
          "output_type": "stream",
          "name": "stdout",
          "text": [
            "This is indented correctly\n"
          ]
        }
      ]
    },
    {
      "cell_type": "code",
      "source": [
        "name=\"Taha\"\n",
        "age=20\n",
        "pi=3.141\n",
        "print(\"name: \",name)\n",
        "print(\"age: \",age)\n",
        "print(\"pi: \",pi)"
      ],
      "metadata": {
        "colab": {
          "base_uri": "https://localhost:8080/"
        },
        "id": "9rjK2WBRznmB",
        "outputId": "d5ed5134-2c5b-49b9-cdf1-02de38cf9dc3"
      },
      "execution_count": 9,
      "outputs": [
        {
          "output_type": "stream",
          "name": "stdout",
          "text": [
            "name:  Taha\n",
            "age:  20\n",
            "pi:  3.141\n"
          ]
        }
      ]
    },
    {
      "cell_type": "code",
      "source": [
        "name=input(\"enter name : \")\n",
        "age=int(input(\"enter age : \"))\n",
        "print(name,age)"
      ],
      "metadata": {
        "colab": {
          "base_uri": "https://localhost:8080/"
        },
        "id": "zF4w3dRvzy0v",
        "outputId": "246c3ba3-99e4-4ff1-a738-a0b29be4086d"
      },
      "execution_count": 10,
      "outputs": [
        {
          "output_type": "stream",
          "name": "stdout",
          "text": [
            "enter name : Taha\n",
            "enter age : 20\n",
            "Taha 20\n"
          ]
        }
      ]
    },
    {
      "cell_type": "code",
      "source": [
        "z=4+6j\n",
        "print(z.real,z.imag)"
      ],
      "metadata": {
        "colab": {
          "base_uri": "https://localhost:8080/"
        },
        "id": "Eoc4gMo5z3LA",
        "outputId": "93fbbb6e-b640-4de0-dc5d-666c5be1e88a"
      },
      "execution_count": 11,
      "outputs": [
        {
          "output_type": "stream",
          "name": "stdout",
          "text": [
            "4.0 6.0\n"
          ]
        }
      ]
    },
    {
      "cell_type": "code",
      "source": [
        "msg = \"Hello World!\"\n",
        "repeat = \"Python\" * 10\n",
        "print(repeat)\n",
        "replace = msg.replace(\"hello\",\"Hi\")\n",
        "print(replace)\n",
        "print(msg[0])\n",
        "print(msg[0:5])\n",
        "print(msg[6:])"
      ],
      "metadata": {
        "colab": {
          "base_uri": "https://localhost:8080/"
        },
        "id": "rhBpTaQrz5L_",
        "outputId": "5727ebb1-9dd0-4fdd-fe21-53f172909057"
      },
      "execution_count": 12,
      "outputs": [
        {
          "output_type": "stream",
          "name": "stdout",
          "text": [
            "PythonPythonPythonPythonPythonPythonPythonPythonPythonPython\n",
            "Hello World!\n",
            "H\n",
            "Hello\n",
            "World!\n"
          ]
        }
      ]
    },
    {
      "cell_type": "code",
      "source": [
        "temp = [1,2,3,4,5]\n",
        "print(temp)\n",
        "temp.append(6)\n",
        "print(temp)\n",
        "print(temp[0:3])"
      ],
      "metadata": {
        "colab": {
          "base_uri": "https://localhost:8080/"
        },
        "id": "tDY3eOopz9l2",
        "outputId": "42cd3204-effe-4efb-87cd-1c98418ce561"
      },
      "execution_count": 13,
      "outputs": [
        {
          "output_type": "stream",
          "name": "stdout",
          "text": [
            "[1, 2, 3, 4, 5]\n",
            "[1, 2, 3, 4, 5, 6]\n",
            "[1, 2, 3]\n"
          ]
        }
      ]
    },
    {
      "cell_type": "code",
      "source": [
        "tupl= (1,2,3,4,5)\n",
        "print(tupl)"
      ],
      "metadata": {
        "colab": {
          "base_uri": "https://localhost:8080/"
        },
        "id": "9I-BEevU0A0n",
        "outputId": "f7a534cb-538d-4415-885f-e03f75b6c82c"
      },
      "execution_count": 14,
      "outputs": [
        {
          "output_type": "stream",
          "name": "stdout",
          "text": [
            "(1, 2, 3, 4, 5)\n"
          ]
        }
      ]
    },
    {
      "cell_type": "code",
      "source": [
        "num_set = {1,2,3,4,5}\n",
        "num_set.add(6)\n",
        "print(num_set)\n",
        "num_set.add(6)\n",
        "print(num_set)"
      ],
      "metadata": {
        "colab": {
          "base_uri": "https://localhost:8080/"
        },
        "id": "Se1LfmH10FdO",
        "outputId": "5c42a43c-09da-40f2-ae67-e4c88c5f3238"
      },
      "execution_count": 15,
      "outputs": [
        {
          "output_type": "stream",
          "name": "stdout",
          "text": [
            "{1, 2, 3, 4, 5, 6}\n",
            "{1, 2, 3, 4, 5, 6}\n"
          ]
        }
      ]
    },
    {
      "cell_type": "code",
      "source": [
        "dictionary = {\"name\": \"Taha\"}\n",
        "\n",
        "dictionary['name'] = \"mtj\"\n",
        "print(dictionary)"
      ],
      "metadata": {
        "colab": {
          "base_uri": "https://localhost:8080/"
        },
        "id": "YDXQNJNr0JpP",
        "outputId": "595b9807-bcc0-4f36-994b-34803c887f84"
      },
      "execution_count": 16,
      "outputs": [
        {
          "output_type": "stream",
          "name": "stdout",
          "text": [
            "{'name': 'mtj'}\n"
          ]
        }
      ]
    },
    {
      "cell_type": "code",
      "source": [
        "num1 = 10\n",
        "num2= 10.01\n",
        "result= num1+num2\n",
        "print (result)\n",
        "print(type(result))"
      ],
      "metadata": {
        "colab": {
          "base_uri": "https://localhost:8080/"
        },
        "id": "mk-lpMdv0PPP",
        "outputId": "923cb6cf-77d0-462e-fe74-f6ab50434685"
      },
      "execution_count": 17,
      "outputs": [
        {
          "output_type": "stream",
          "name": "stdout",
          "text": [
            "20.009999999999998\n",
            "<class 'float'>\n"
          ]
        }
      ]
    },
    {
      "cell_type": "code",
      "source": [
        "age = \"20\"\n",
        "print(type(age))\n",
        "integer = 10\n",
        "age = int(age)\n",
        "result= age+integer\n",
        "print(result)"
      ],
      "metadata": {
        "colab": {
          "base_uri": "https://localhost:8080/"
        },
        "id": "9_WIyv_d0R53",
        "outputId": "537a9fde-8c42-4985-c094-71718dbd0e4c"
      },
      "execution_count": 18,
      "outputs": [
        {
          "output_type": "stream",
          "name": "stdout",
          "text": [
            "<class 'str'>\n",
            "30\n"
          ]
        }
      ]
    },
    {
      "cell_type": "code",
      "source": [
        "print(\"Floor Div:\",10//6)\n",
        "print(\"Mod:\",5%2)\n",
        "print(\"Exponent:\",2**3)"
      ],
      "metadata": {
        "colab": {
          "base_uri": "https://localhost:8080/"
        },
        "id": "OFYdSMNY0XYv",
        "outputId": "471cdaed-aacb-473d-c930-dc1818a6cd70"
      },
      "execution_count": 19,
      "outputs": [
        {
          "output_type": "stream",
          "name": "stdout",
          "text": [
            "Floor Div: 1\n",
            "Mod: 1\n",
            "Exponent: 8\n"
          ]
        }
      ]
    },
    {
      "cell_type": "code",
      "source": [
        "p = True\n",
        "q= False\n",
        "\n",
        "print(\"AND\", p and q)\n",
        "print(\"OR\", p or q)\n",
        "print(\"NOT\", not p)"
      ],
      "metadata": {
        "colab": {
          "base_uri": "https://localhost:8080/"
        },
        "id": "fO3uHyNY0cgX",
        "outputId": "b0cf894a-54d5-4cef-82fa-4f83e5ffc9cc"
      },
      "execution_count": 20,
      "outputs": [
        {
          "output_type": "stream",
          "name": "stdout",
          "text": [
            "AND False\n",
            "OR True\n",
            "NOT False\n"
          ]
        }
      ]
    },
    {
      "cell_type": "code",
      "source": [
        "a=10\n",
        "print(a)\n",
        "a+=5\n",
        "print(a)\n",
        "a-=5\n",
        "print(a)\n",
        "a*=5\n",
        "print(a)\n",
        "a/=5\n",
        "print(a)"
      ],
      "metadata": {
        "colab": {
          "base_uri": "https://localhost:8080/"
        },
        "id": "yevFyBNH0dsX",
        "outputId": "4cded06b-9e82-48cb-bd66-a1f1f5133f66"
      },
      "execution_count": 21,
      "outputs": [
        {
          "output_type": "stream",
          "name": "stdout",
          "text": [
            "10\n",
            "15\n",
            "10\n",
            "50\n",
            "10.0\n"
          ]
        }
      ]
    },
    {
      "cell_type": "code",
      "source": [
        "sentence = \"a  sentence\"\n",
        "print(len(sentence))"
      ],
      "metadata": {
        "colab": {
          "base_uri": "https://localhost:8080/"
        },
        "id": "1OJBfrZx0gcn",
        "outputId": "af014740-f2a6-4174-fb81-c968615ef951"
      },
      "execution_count": 22,
      "outputs": [
        {
          "output_type": "stream",
          "name": "stdout",
          "text": [
            "11\n"
          ]
        }
      ]
    },
    {
      "cell_type": "code",
      "source": [
        "sentence = \"a sentence\"\n",
        "tokens = sentence.split(\" \")\n",
        "print(tokens)"
      ],
      "metadata": {
        "colab": {
          "base_uri": "https://localhost:8080/"
        },
        "id": "QZFaVGOg0lsv",
        "outputId": "d54cce4a-0b4e-424c-ef3e-b6da13962ff2"
      },
      "execution_count": 24,
      "outputs": [
        {
          "output_type": "stream",
          "name": "stdout",
          "text": [
            "['a', 'sentence']\n"
          ]
        }
      ]
    },
    {
      "cell_type": "code",
      "source": [
        "import random\n",
        "no = random.randint(1,10)\n",
        "print(no)\n",
        "print(random.random())\n",
        "items = [\"apple\", \"mango\", \"grapes\"]\n",
        "random.shuffle(items)\n",
        "print(items)\n",
        "print(random.choice(items))"
      ],
      "metadata": {
        "colab": {
          "base_uri": "https://localhost:8080/"
        },
        "id": "qevynWrZ0qBn",
        "outputId": "519395a9-ed9e-4ca2-a26d-4465ac04de89"
      },
      "execution_count": 25,
      "outputs": [
        {
          "output_type": "stream",
          "name": "stdout",
          "text": [
            "4\n",
            "0.3749881744538285\n",
            "['grapes', 'mango', 'apple']\n",
            "apple\n"
          ]
        }
      ]
    }
  ]
}